{
 "cells": [
  {
   "cell_type": "code",
   "execution_count": 20,
   "id": "8032eaea-4bfa-4028-bba4-9500611877cf",
   "metadata": {},
   "outputs": [
    {
     "name": "stdout",
     "output_type": "stream",
     "text": [
      "INFO: Pandarallel will run on 10 workers.\n",
      "INFO: Pandarallel will use standard multiprocessing data transfer (pipe) to transfer data between the main process and workers.\n"
     ]
    }
   ],
   "source": [
    "from tqdm.auto import tqdm\n",
    "tqdm.pandas()\n",
    "import pandas as pd\n",
    "import pandas as pd\n",
    "import numpy as np\n",
    "import json, pickle\n",
    "from tqdm.auto import tqdm\n",
    "tqdm.pandas()\n",
    "\n",
    "from pandarallel import pandarallel\n",
    "from gensim.corpora import Dictionary\n",
    "from gensim.models import TfidfModel, OkapiBM25Model\n",
    "from gensim.similarities import SparseMatrixSimilarity\n",
    "import numpy as np\n",
    "pandarallel.initialize(progress_bar=True, use_memory_fs=False, nb_workers=10)"
   ]
  },
  {
   "cell_type": "code",
   "execution_count": 22,
   "id": "daa07c42",
   "metadata": {},
   "outputs": [],
   "source": [
    "CORPUS_PATH = \"../../data/MEDICAL/corpus\"\n",
    "PROCESSED_PATH = \"../processed\""
   ]
  },
  {
   "cell_type": "code",
   "execution_count": 23,
   "id": "d8fb5933-b68e-4d75-b166-e60245125e3f",
   "metadata": {},
   "outputs": [],
   "source": [
    "df = pd.read_csv(f\"{PROCESSED_PATH}/corpus_clean.csv\")\n",
    "df = df.fillna(\"NaN\")"
   ]
  },
  {
   "cell_type": "code",
   "execution_count": 24,
   "id": "5375819f",
   "metadata": {},
   "outputs": [],
   "source": [
    "# inline text processing code\n",
    "\n",
    "import re\n",
    "import string\n",
    "from nltk import word_tokenize as lib_tokenizer\n",
    "\n",
    "dict_map = dict({})  \n",
    "def word_tokenize(text):\n",
    "    words = text.split() \n",
    "    words_norm = [] \n",
    "    for w in words: \n",
    "        if dict_map.get(w, None) is None: \n",
    "            dict_map[w] = ' '.join(lib_tokenizer(w)).replace('``', '\"').replace(\"''\", '\"') \n",
    "        words_norm.append(dict_map[w]) \n",
    "    return words_norm \n",
    "\n",
    "def strip_context(text): \n",
    "    text = text.replace('\\n', ' ') \n",
    "    text = re.sub(r'\\s+', ' ', text) \n",
    "    text = text.strip() \n",
    "    return text\n",
    "\n",
    "def post_process(x):\n",
    "    x = \" \".join(word_tokenize(strip_context(x))).strip()\n",
    "    x = x.replace(\"\\n\",\" \")\n",
    "    x = \"\".join([i for i in x if i not in string.punctuation])\n",
    "    return x"
   ]
  },
  {
   "cell_type": "code",
   "execution_count": 25,
   "id": "7e30b687-eff8-4de5-bff4-680b1289475f",
   "metadata": {},
   "outputs": [
    {
     "data": {
      "application/vnd.jupyter.widget-view+json": {
       "model_id": "6ae3186fb8c74cd99ba0b0f85142c8a3",
       "version_major": 2,
       "version_minor": 0
      },
      "text/plain": [
       "VBox(children=(HBox(children=(IntProgress(value=0, description='0.00%', max=701), Label(value='0 / 701'))), HB…"
      ]
     },
     "metadata": {},
     "output_type": "display_data"
    }
   ],
   "source": [
    "df['bm25_text'] = df['bm25_text'].apply(lambda x: x.lower()).parallel_apply(post_process)\n",
    "corpus = [x.split() for x in df['bm25_text'].values]\n",
    "dictionary = Dictionary(corpus)\n",
    "bm25_model = OkapiBM25Model(dictionary=dictionary)\n",
    "bm25_corpus = bm25_model[list(map(dictionary.doc2bow, corpus))]\n",
    "bm25_index = SparseMatrixSimilarity(bm25_corpus, num_docs=len(corpus), num_terms=len(dictionary),normalize_queries=False, normalize_documents=False)\n",
    "tfidf_model = TfidfModel(dictionary=dictionary, smartirs='bnn')  # Enforce binary weighting of queries\n",
    "dictionary.save(f\"{PROCESSED_PATH}/outputs/bm25/dict\")\n",
    "tfidf_model.save(f\"{PROCESSED_PATH}/outputs/bm25/tfidf\")\n",
    "bm25_index.save(f\"{PROCESSED_PATH}/outputs/bm25/bm25_index\")"
   ]
  }
 ],
 "metadata": {
  "kernelspec": {
   "display_name": "Python 3 (ipykernel)",
   "language": "python",
   "name": "python3"
  },
  "language_info": {
   "codemirror_mode": {
    "name": "ipython",
    "version": 3
   },
   "file_extension": ".py",
   "mimetype": "text/x-python",
   "name": "python",
   "nbconvert_exporter": "python",
   "pygments_lexer": "ipython3",
   "version": "3.8.18"
  }
 },
 "nbformat": 4,
 "nbformat_minor": 5
}
