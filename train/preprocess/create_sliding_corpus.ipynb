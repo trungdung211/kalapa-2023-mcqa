{
 "cells": [
  {
   "cell_type": "code",
   "execution_count": 22,
   "id": "d380af40-c49c-403a-b2a0-642cedc1f95c",
   "metadata": {},
   "outputs": [],
   "source": [
    "import re\n",
    "from tqdm.auto import tqdm\n",
    "tqdm.pandas()\n",
    "import math\n",
    "import pandas as pd\n",
    "\n",
    "CORPUS_PATH = \"../../data/MEDICAL/corpus\"\n",
    "PROCESSED_PATH = \"../../processed\""
   ]
  },
  {
   "cell_type": "code",
   "execution_count": 23,
   "id": "dfbf9005",
   "metadata": {},
   "outputs": [],
   "source": [
    "# corpus clean\n",
    "import re\n",
    "import string\n",
    "\n",
    "def remove_url(text):\n",
    "  return re.sub(r\"http\\S+\", \"\", text)\n",
    "\n",
    "def remove_html_tags(text):\n",
    "  clean = re.compile('<.*?>')\n",
    "  return re.sub(clean, '', text)\n",
    "\n",
    "codes = [\"&#8211\", \"&#038\"]\n",
    "def remove_special_token(text):\n",
    "  for code in codes:\n",
    "    text = text.replace(code, \" \")\n",
    "  return text\n",
    "\n",
    "def remove_punctation(text):\n",
    "  for punctuation in string.punctuation:\n",
    "    text = text.replace(punctuation, ' ')\n",
    "  return text\n",
    "\n",
    "def preprocess_text(text):\n",
    "  text = \" \".join(remove_punctation(remove_special_token(remove_html_tags(remove_url(text)))).split())\n",
    "  return text\n",
    "\n",
    "def clean_overall(doc):\n",
    "  # remove corpus header\n",
    "  try:\n",
    "    doc = doc.split(\"<h3>Mục lục</h3>\")[1]\n",
    "  except:\n",
    "    pass\n",
    "  if \"hệ thống bệnh viện đa khoa tâm anh\" in doc.lower():\n",
    "    process_paragraph = doc.lower().split(\"hệ thống bệnh viện đa khoa tâm anh\")[0]\n",
    "    doc = doc[ : len(process_paragraph)]\n",
    "  return preprocess_text(doc)\n"
   ]
  },
  {
   "cell_type": "code",
   "execution_count": 24,
   "id": "af8e26f6-1b51-477e-b1f7-803a59d2fd6f",
   "metadata": {},
   "outputs": [],
   "source": [
    "# corpus breaks into chunks\n",
    "_WORD_SPLIT = re.compile(\"([.,!?\\\"/':;)(])\")\n",
    "STOP_WORDS = \"\\\" \\' [ ] . , ! : ; ?\".split(\" \")\n",
    "\n",
    "def basic_tokenizer(sentence):\n",
    "    \"\"\"Very basic tokenizer: split the sentence into a list of tokens.\"\"\"\n",
    "    words = []\n",
    "    for space_separated_fragment in sentence.strip().split():\n",
    "        words.extend(_WORD_SPLIT.split(space_separated_fragment))\n",
    "        # return [w.lower() for w in words if w not in stop_words and w != '' and w != ' ']\n",
    "    return [w.lower() for w in words if w != '' and w != ' ' and w not in string.punctuation]\n",
    "\n",
    "def create_sliding_window(text, size=256, overlap=32):\n",
    "    actual_size = size - overlap\n",
    "    windows = []\n",
    "    n_windows = math.ceil(len(text)/actual_size)\n",
    "    for i in range(n_windows):\n",
    "        windows.append(\" \".join(text[i*actual_size:i*actual_size + size]))\n",
    "    return windows"
   ]
  },
  {
   "cell_type": "code",
   "execution_count": 25,
   "id": "193a9b3d",
   "metadata": {},
   "outputs": [],
   "source": [
    "def get_titles(corpus):\n",
    "    titles = []\n",
    "    for doc in tqdm(corpus):\n",
    "        title = doc.split(\"\\n\")[5].split(\":\")[0].split(\"?\")[0]\n",
    "        for code in codes:\n",
    "            title = title.replace(code, \" \")\n",
    "        title = preprocess_text(title)\n",
    "        titles.append(title)\n",
    "    return titles"
   ]
  },
  {
   "cell_type": "code",
   "execution_count": 33,
   "id": "99214a96-5803-4ffa-9f88-692a6c14eeb0",
   "metadata": {},
   "outputs": [
    {
     "name": "stdout",
     "output_type": "stream",
     "text": [
      "read corpus\n",
      "read titles\n"
     ]
    },
    {
     "name": "stderr",
     "output_type": "stream",
     "text": [
      "100%|██████████| 603/603 [00:00<00:00, 54044.30it/s]\n"
     ]
    },
    {
     "name": "stdout",
     "output_type": "stream",
     "text": [
      "process\n"
     ]
    },
    {
     "name": "stderr",
     "output_type": "stream",
     "text": [
      "603it [00:00, 1982.58it/s]\n"
     ]
    }
   ],
   "source": [
    "import os\n",
    "\n",
    "all_titles = []\n",
    "all_texts = []\n",
    "# all_bm25_texts = []\n",
    "\n",
    "print(\"read corpus\")\n",
    "corpus = []\n",
    "for file_name in os.listdir(CORPUS_PATH):\n",
    "    with open(f'{CORPUS_PATH}/{file_name}', 'r') as f:\n",
    "        doc = f.readlines()\n",
    "    corpus.append(\" \".join(doc))\n",
    "\n",
    "print(\"read titles\")\n",
    "titles = get_titles(corpus)\n",
    "\n",
    "print(\"process\")\n",
    "for i, (title, text) in tqdm(enumerate(zip(titles, corpus))):\n",
    "    # print(y, \"|\", text[:50],\"\\n\")\n",
    "    text = clean_overall(text)\n",
    "    text = text.split(\" \")\n",
    "    sliding_windows = create_sliding_window(text)\n",
    "    # bm25_windows = [\" \".join(basic_tokenizer(w)) for w in sliding_windows]\n",
    "    all_texts.extend(sliding_windows)\n",
    "    # all_bm25_texts.extend(bm25_windows)\n",
    "    all_titles.extend([title,]*len(sliding_windows))"
   ]
  },
  {
   "cell_type": "code",
   "execution_count": 34,
   "id": "9ac0a242-cc03-4009-b049-801db7c419f3",
   "metadata": {},
   "outputs": [],
   "source": [
    "df = pd.DataFrame()\n",
    "df[\"title\"] = all_titles\n",
    "df[\"text\"] = all_texts"
   ]
  },
  {
   "cell_type": "code",
   "execution_count": 35,
   "id": "f19944a6-3d1b-413b-aef4-ce462b8328e2",
   "metadata": {},
   "outputs": [
    {
     "name": "stdout",
     "output_type": "stream",
     "text": [
      "INFO: Pandarallel will run on 12 workers.\n",
      "INFO: Pandarallel will use standard multiprocessing data transfer (pipe) to transfer data between the main process and workers.\n"
     ]
    },
    {
     "data": {
      "application/vnd.jupyter.widget-view+json": {
       "model_id": "bc3c7868b6ad47dda513818b7f293959",
       "version_major": 2,
       "version_minor": 0
      },
      "text/plain": [
       "VBox(children=(HBox(children=(IntProgress(value=0, description='0.00%', max=584), Label(value='0 / 584'))), HB…"
      ]
     },
     "metadata": {},
     "output_type": "display_data"
    }
   ],
   "source": [
    "from pandarallel import pandarallel\n",
    "\n",
    "pandarallel.initialize(progress_bar=True, use_memory_fs=False, nb_workers=12)\n",
    "df[\"bm25_text\"] = df[\"text\"].parallel_apply(lambda x: \" \".join(basic_tokenizer(x)))"
   ]
  },
  {
   "cell_type": "code",
   "execution_count": 36,
   "id": "996b7456",
   "metadata": {},
   "outputs": [
    {
     "data": {
      "text/html": [
       "<div>\n",
       "<style scoped>\n",
       "    .dataframe tbody tr th:only-of-type {\n",
       "        vertical-align: middle;\n",
       "    }\n",
       "\n",
       "    .dataframe tbody tr th {\n",
       "        vertical-align: top;\n",
       "    }\n",
       "\n",
       "    .dataframe thead th {\n",
       "        text-align: right;\n",
       "    }\n",
       "</style>\n",
       "<table border=\"1\" class=\"dataframe\">\n",
       "  <thead>\n",
       "    <tr style=\"text-align: right;\">\n",
       "      <th></th>\n",
       "      <th>title</th>\n",
       "      <th>text</th>\n",
       "      <th>bm25_text</th>\n",
       "    </tr>\n",
       "  </thead>\n",
       "  <tbody>\n",
       "    <tr>\n",
       "      <th>0</th>\n",
       "      <td>Sinh non</td>\n",
       "      <td>Sinh non là gì Phân loại mức độ sinh non Dấu h...</td>\n",
       "      <td>sinh non là gì phân loại mức độ sinh non dấu h...</td>\n",
       "    </tr>\n",
       "    <tr>\n",
       "      <th>1</th>\n",
       "      <td>Sinh non</td>\n",
       "      <td>Việt Nam theo các tài liệu báo cáo chung tình ...</td>\n",
       "      <td>việt nam theo các tài liệu báo cáo chung tình ...</td>\n",
       "    </tr>\n",
       "    <tr>\n",
       "      <th>2</th>\n",
       "      <td>Sinh non</td>\n",
       "      <td>hiện đại nhất Tình trạng của trẻ dần chuyển bi...</td>\n",
       "      <td>hiện đại nhất tình trạng của trẻ dần chuyển bi...</td>\n",
       "    </tr>\n",
       "    <tr>\n",
       "      <th>3</th>\n",
       "      <td>Sinh non</td>\n",
       "      <td>cơ tử vong cao vì thiếu chăm sóc cơ bản như gi...</td>\n",
       "      <td>cơ tử vong cao vì thiếu chăm sóc cơ bản như gi...</td>\n",
       "    </tr>\n",
       "    <tr>\n",
       "      <th>4</th>\n",
       "      <td>Sinh non</td>\n",
       "      <td>nặng nhọc thời kỳ mang thai Độ tuổi cũng tác đ...</td>\n",
       "      <td>nặng nhọc thời kỳ mang thai độ tuổi cũng tác đ...</td>\n",
       "    </tr>\n",
       "  </tbody>\n",
       "</table>\n",
       "</div>"
      ],
      "text/plain": [
       "      title                                               text  \\\n",
       "0  Sinh non  Sinh non là gì Phân loại mức độ sinh non Dấu h...   \n",
       "1  Sinh non  Việt Nam theo các tài liệu báo cáo chung tình ...   \n",
       "2  Sinh non  hiện đại nhất Tình trạng của trẻ dần chuyển bi...   \n",
       "3  Sinh non  cơ tử vong cao vì thiếu chăm sóc cơ bản như gi...   \n",
       "4  Sinh non  nặng nhọc thời kỳ mang thai Độ tuổi cũng tác đ...   \n",
       "\n",
       "                                           bm25_text  \n",
       "0  sinh non là gì phân loại mức độ sinh non dấu h...  \n",
       "1  việt nam theo các tài liệu báo cáo chung tình ...  \n",
       "2  hiện đại nhất tình trạng của trẻ dần chuyển bi...  \n",
       "3  cơ tử vong cao vì thiếu chăm sóc cơ bản như gi...  \n",
       "4  nặng nhọc thời kỳ mang thai độ tuổi cũng tác đ...  "
      ]
     },
     "execution_count": 36,
     "metadata": {},
     "output_type": "execute_result"
    }
   ],
   "source": [
    "df.head()"
   ]
  },
  {
   "cell_type": "code",
   "execution_count": 37,
   "id": "b1107dae-3daf-427d-9070-2706412b37a9",
   "metadata": {},
   "outputs": [],
   "source": [
    "df.to_csv(f\"{PROCESSED_PATH}/corpus_clean.csv\",index=False)"
   ]
  }
 ],
 "metadata": {
  "kernelspec": {
   "display_name": "Python 3 (ipykernel)",
   "language": "python",
   "name": "python3"
  },
  "language_info": {
   "codemirror_mode": {
    "name": "ipython",
    "version": 3
   },
   "file_extension": ".py",
   "mimetype": "text/x-python",
   "name": "python",
   "nbconvert_exporter": "python",
   "pygments_lexer": "ipython3",
   "version": "3.8.18"
  }
 },
 "nbformat": 4,
 "nbformat_minor": 5
}
